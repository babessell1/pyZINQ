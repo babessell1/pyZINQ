{
 "cells": [
  {
   "cell_type": "code",
   "execution_count": 1,
   "metadata": {},
   "outputs": [
    {
     "name": "stdout",
     "output_type": "stream",
     "text": [
      "c:\\PIBS\\Coursework\\biostat666\\project\\pyZINQ\n",
      "['.git', '.gitignore', 'License.md', 'py', 'README.md', 'refs', 'tests', 'TODO.txt']\n"
     ]
    }
   ],
   "source": [
    "import os\n",
    "os.chdir('..')\n",
    "from py.zinq import ZINQ\n",
    "import pandas as pd\n",
    "import numpy as np\n",
    "print(os.getcwd())\n",
    "print(os.listdir())"
   ]
  },
  {
   "cell_type": "code",
   "execution_count": 13,
   "metadata": {},
   "outputs": [
    {
     "ename": "TypeError",
     "evalue": "only size-1 arrays can be converted to Python scalars",
     "output_type": "error",
     "traceback": [
      "\u001b[1;31m---------------------------------------------------------------------------\u001b[0m",
      "\u001b[1;31mTypeError\u001b[0m                                 Traceback (most recent call last)",
      "Cell \u001b[1;32mIn[13], line 13\u001b[0m\n\u001b[0;32m      4\u001b[0m metadata \u001b[39m=\u001b[39m pd\u001b[39m.\u001b[39mDataFrame(data[covariates]\u001b[39m.\u001b[39mvalues, columns\u001b[39m=\u001b[39mcovariates)\n\u001b[0;32m      5\u001b[0m zinq \u001b[39m=\u001b[39m ZINQ(\n\u001b[0;32m      6\u001b[0m     (data_matrix),\n\u001b[0;32m      7\u001b[0m     metadata, \n\u001b[1;32m   (...)\u001b[0m\n\u001b[0;32m     11\u001b[0m     count_data \u001b[39m=\u001b[39m \u001b[39mTrue\u001b[39;00m\n\u001b[0;32m     12\u001b[0m )\n\u001b[1;32m---> 13\u001b[0m np\u001b[39m.\u001b[39masarray(\u001b[39mint\u001b[39;49m(data_matrix[:, np\u001b[39m.\u001b[39;49mnewaxis]\u001b[39m!=\u001b[39;49m\u001b[39m0\u001b[39;49m))\n",
      "\u001b[1;31mTypeError\u001b[0m: only size-1 arrays can be converted to Python scalars"
     ]
    }
   ],
   "source": [
    "data = pd.read_csv(\"refs/taxon_data.csv\", delimiter=\";\").drop(columns=[\"Unnamed: 0\"])\n",
    "covariates = [\"X\", \"Z1\", \"Z2\", \"Z3\"]\n",
    "data_matrix = data[\"Y\"].values.T\n",
    "metadata = pd.DataFrame(data[covariates].values, columns=covariates)\n",
    "zinq = ZINQ(\n",
    "    (data_matrix),\n",
    "    metadata, \n",
    "    [\"test\"], \n",
    "    \"X\",\n",
    "    [\"Z1\", \"Z2\", \"Z3\"],\n",
    "    count_data = True\n",
    ")\n",
    "np.multiply(1,data_matrix[:, np.newaxis]!=0)"
   ]
  },
  {
   "cell_type": "code",
   "execution_count": 3,
   "metadata": {},
   "outputs": [
    {
     "name": "stdout",
     "output_type": "stream",
     "text": [
      "Source `test`, has the following warnings: \n",
      "\n",
      "(531, 4)\n"
     ]
    },
    {
     "ename": "ValueError",
     "evalue": "unable to broadcast argument 1 to output array\nFile \"c:\\PIBS\\Coursework\\biostat666\\project\\pyZINQ\\py\\firth.py\", line 1, ",
     "output_type": "error",
     "traceback": [
      "\u001b[1;31m---------------------------------------------------------------------------\u001b[0m",
      "\u001b[1;31mValueError\u001b[0m                                Traceback (most recent call last)",
      "Cell \u001b[1;32mIn[3], line 2\u001b[0m\n\u001b[0;32m      1\u001b[0m zinq\u001b[39m.\u001b[39mrun_sanity_check()\n\u001b[1;32m----> 2\u001b[0m zinq\u001b[39m.\u001b[39;49mrun_marginal_tests()\n",
      "File \u001b[1;32mc:\\PIBS\\Coursework\\biostat666\\project\\pyZINQ\\py\\zinq.py:434\u001b[0m, in \u001b[0;36mZINQ.run_marginal_tests\u001b[1;34m(self)\u001b[0m\n\u001b[0;32m    429\u001b[0m \u001b[39m\"\"\"\u001b[39;00m\n\u001b[0;32m    430\u001b[0m \u001b[39mrun marginal tests for firth logistic and quantile regression\u001b[39;00m\n\u001b[0;32m    431\u001b[0m \u001b[39mcomponents for each data source\u001b[39;00m\n\u001b[0;32m    432\u001b[0m \u001b[39m\"\"\"\u001b[39;00m\n\u001b[0;32m    433\u001b[0m \u001b[39mfor\u001b[39;00m dname \u001b[39min\u001b[39;00m \u001b[39mself\u001b[39m\u001b[39m.\u001b[39mdnames:\n\u001b[1;32m--> 434\u001b[0m     \u001b[39mself\u001b[39m\u001b[39m.\u001b[39mz_pvalues[dname], \u001b[39mself\u001b[39m\u001b[39m.\u001b[39mq_pvalues[dname] \u001b[39m=\u001b[39m \u001b[39mself\u001b[39;49m\u001b[39m.\u001b[39;49m_marginal_test(dname)\n",
      "File \u001b[1;32mc:\\PIBS\\Coursework\\biostat666\\project\\pyZINQ\\py\\zinq.py:422\u001b[0m, in \u001b[0;36mZINQ._marginal_test\u001b[1;34m(self, dname)\u001b[0m\n\u001b[0;32m    421\u001b[0m \u001b[39mdef\u001b[39;00m \u001b[39m_marginal_test\u001b[39m(\u001b[39mself\u001b[39m, dname): \u001b[39m# ?\u001b[39;00m\n\u001b[1;32m--> 422\u001b[0m     _, _, _, _, firth_pvals \u001b[39m=\u001b[39m \u001b[39mself\u001b[39;49m\u001b[39m.\u001b[39;49mrun_firth_regression(dname)\n\u001b[0;32m    423\u001b[0m     quant_pvals \u001b[39m=\u001b[39m \u001b[39mself\u001b[39m\u001b[39m.\u001b[39mrun_quantile_regression(dname)\n\u001b[0;32m    425\u001b[0m     \u001b[39mreturn\u001b[39;00m firth_pvals, quant_pvals\n",
      "File \u001b[1;32mc:\\PIBS\\Coursework\\biostat666\\project\\pyZINQ\\py\\zinq.py:330\u001b[0m, in \u001b[0;36mZINQ.run_firth_regression\u001b[1;34m(self, dname)\u001b[0m\n\u001b[0;32m    325\u001b[0m \u001b[39m# C should be Y\u001b[39;00m\n\u001b[0;32m    326\u001b[0m \n\u001b[0;32m    327\u001b[0m \u001b[39m# the dependent variable should be whether or not y is 0, not the actual y values. code aded below to change that. \u001b[39;00m\n\u001b[0;32m    328\u001b[0m y_column_vector \u001b[39m=\u001b[39m np\u001b[39m.\u001b[39masarray(\u001b[39mself\u001b[39m\u001b[39m.\u001b[39mY[dname][:, np\u001b[39m.\u001b[39mnewaxis]\u001b[39m!=\u001b[39m\u001b[39m0\u001b[39m)\n\u001b[1;32m--> 330\u001b[0m \u001b[39mreturn\u001b[39;00m \u001b[39mself\u001b[39;49m\u001b[39m.\u001b[39;49m_firth_regress(y_column_vector, \u001b[39mself\u001b[39;49m\u001b[39m.\u001b[39;49m_get_XZ(dname))\n",
      "File \u001b[1;32mc:\\PIBS\\Coursework\\biostat666\\project\\pyZINQ\\py\\zinq.py:305\u001b[0m, in \u001b[0;36mZINQ._firth_regress\u001b[1;34m(Y, x)\u001b[0m\n\u001b[0;32m    301\u001b[0m \u001b[39m@staticmethod\u001b[39m\n\u001b[0;32m    302\u001b[0m \u001b[39mdef\u001b[39;00m \u001b[39m_firth_regress\u001b[39m(Y : np\u001b[39m.\u001b[39mndarray, x : np\u001b[39m.\u001b[39mndarray) \u001b[39m-\u001b[39m\u001b[39m>\u001b[39m \u001b[39mtuple\u001b[39m[np\u001b[39m.\u001b[39mndarray[\u001b[39mfloat\u001b[39m]]: \u001b[39m# x 5 \u001b[39;00m\n\u001b[0;32m    303\u001b[0m     \u001b[39m# betas, bse, fitll, stats, pvals \u001b[39;00m\n\u001b[0;32m    304\u001b[0m     \u001b[39m# change C to Y\u001b[39;00m\n\u001b[1;32m--> 305\u001b[0m     \u001b[39mreturn\u001b[39;00m firth_logistic_regression(Y, x)\n",
      "File \u001b[1;32mc:\\PIBS\\Coursework\\biostat666\\project\\pyZINQ\\py\\firth.py:73\u001b[0m, in \u001b[0;36mfirth_logistic_regression\u001b[1;34m(y, X, max_iter, tol, test)\u001b[0m\n\u001b[0;32m     71\u001b[0m \u001b[39m#TODO: figure out how to calculate the hessian so I can throw this in a jit\u001b[39;00m\n\u001b[0;32m     72\u001b[0m \u001b[39mfor\u001b[39;00m i \u001b[39min\u001b[39;00m \u001b[39mrange\u001b[39m(max_iter):\n\u001b[1;32m---> 73\u001b[0m     new_betas \u001b[39m=\u001b[39m fit_firth(betas, H, y, X)\n\u001b[0;32m     74\u001b[0m     ll_next \u001b[39m=\u001b[39m logit_model\u001b[39m.\u001b[39mloglike(betas)\n\u001b[0;32m     75\u001b[0m     H_next \u001b[39m=\u001b[39m logit_model\u001b[39m.\u001b[39mhessian(betas)\n",
      "\u001b[1;31mValueError\u001b[0m: unable to broadcast argument 1 to output array\nFile \"c:\\PIBS\\Coursework\\biostat666\\project\\pyZINQ\\py\\firth.py\", line 1, "
     ]
    }
   ],
   "source": [
    "zinq.run_sanity_check()\n",
    "zinq.run_marginal_tests()"
   ]
  },
  {
   "cell_type": "code",
   "execution_count": null,
   "metadata": {},
   "outputs": [
    {
     "name": "stdout",
     "output_type": "stream",
     "text": [
      "{'test': 0.33859044414524003}\n",
      "{'test': array([0., 0., 0., 0., 0.])}\n"
     ]
    }
   ],
   "source": [
    "print(zinq.z_pvalues)\n",
    "print(zinq.q_pvalues)"
   ]
  },
  {
   "cell_type": "code",
   "execution_count": null,
   "metadata": {},
   "outputs": [],
   "source": [
    "# unit test\n",
    "\n",
    "# sigma hats\n",
    "'''\n",
    "            [,1]        [,2]       [,3]        [,4]        [,5]\n",
    "[1,] 0.013265694 0.011054745 0.00736983 0.003684915 0.001473966\n",
    "[2,] 0.011054745 0.027636863 0.01842458 0.009212288 0.003684915\n",
    "[3,] 0.007369830 0.018424576 0.03684915 0.018424576 0.007369830\n",
    "[4,] 0.003684915 0.009212288 0.01842458 0.027636863 0.011054745\n",
    "[5,] 0.001473966 0.003684915 0.00736983 0.011054745 0.013265694\n",
    "'''\n",
    "\n",
    "z_pvalues_correct = [0.8281865]\n",
    "q_pvalues_correct = [0.16542934, 0.03718496, 0.04301983, 0.03317545, 0.18753145]\n",
    "zr_correct = [0.2937853]\n",
    "\n",
    "z_pvalues = zinq.z_pvalues\n",
    "q_pvalues = zinq.q_pvalues\n",
    "zr = zinq.zr\n",
    "\n",
    "print(\"Z p-values: \", z_pvalues, \" Correct: \", z_pvalues_correct)\n",
    "print(\"Q p-values: \", q_pvalues, \" Correct: \", q_pvalues_correct)\n",
    "print(\"Zr: \", zr, \" Correct: \", zr_correct)\n",
    "\n",
    "# test almost equal\n",
    "assert np.allclose(z_pvalues, z_pvalues_correct, atol=1e-3)"
   ]
  }
 ],
 "metadata": {
  "kernelspec": {
   "display_name": "base",
   "language": "python",
   "name": "python3"
  },
  "language_info": {
   "codemirror_mode": {
    "name": "ipython",
    "version": 3
   },
   "file_extension": ".py",
   "mimetype": "text/x-python",
   "name": "python",
   "nbconvert_exporter": "python",
   "pygments_lexer": "ipython3",
   "version": "3.10.9"
  },
  "vscode": {
   "interpreter": {
    "hash": "d97b56cdf3460d79340c3e24594e9fe4188cc794abf46dca397089caa2dcb209"
   }
  }
 },
 "nbformat": 4,
 "nbformat_minor": 2
}
