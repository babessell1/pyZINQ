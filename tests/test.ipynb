{
 "cells": [
  {
   "cell_type": "code",
   "execution_count": 1,
   "metadata": {},
   "outputs": [
    {
     "name": "stdout",
     "output_type": "stream",
     "text": [
      "c:\\Users\\bbessell\\Projects\\GitHub\\pyZINQ\n",
      "['.git', '.gitignore', 'License.md', 'py', 'README.md', 'refs', 'tests']\n"
     ]
    }
   ],
   "source": [
    "import os\n",
    "os.chdir('..')\n",
    "from py.zinq import ZINQ\n",
    "import pandas as pd\n",
    "import numpy as np\n",
    "print(os.getcwd())\n",
    "print(os.listdir())"
   ]
  },
  {
   "cell_type": "code",
   "execution_count": 2,
   "metadata": {},
   "outputs": [],
   "source": [
    "data = pd.read_csv(\"refs/taxon_data.csv\", delimiter=\";\").drop(columns=[\"Unnamed: 0\"])\n",
    "covariates = [\"X\", \"Z1\", \"Z2\", \"Z3\"]\n",
    "data_matrix = data[\"Y\"].values.T\n",
    "metadata = pd.DataFrame(data[covariates].values, columns=covariates)\n",
    "zinq = ZINQ(\n",
    "    (data_matrix),\n",
    "    metadata, \n",
    "    [\"test\"], \n",
    "    \"X\",\n",
    "    [\"Z1\", \"Z2\", \"Z3\"],\n",
    "    count_data = True\n",
    ")"
   ]
  },
  {
   "cell_type": "code",
   "execution_count": 3,
   "metadata": {},
   "outputs": [
    {
     "name": "stdout",
     "output_type": "stream",
     "text": [
      "Source `test`, has the following warnings: \n",
      "\n",
      "(531, 4)\n"
     ]
    }
   ],
   "source": [
    "zinq.run_sanity_check()\n",
    "zinq.run_marginal_tests()"
   ]
  },
  {
   "cell_type": "code",
   "execution_count": 5,
   "metadata": {},
   "outputs": [
    {
     "name": "stdout",
     "output_type": "stream",
     "text": [
      "{'test': 0.33859044414524003}\n",
      "{'test': array([0., 0., 0., 0., 0.])}\n"
     ]
    }
   ],
   "source": [
    "print(zinq.z_pvalues)\n",
    "print(zinq.q_pvalues)"
   ]
  },
  {
   "cell_type": "code",
   "execution_count": null,
   "metadata": {},
   "outputs": [],
   "source": [
    "# unit test\n",
    "\n",
    "# sigma hats\n",
    "'''\n",
    "            [,1]        [,2]       [,3]        [,4]        [,5]\n",
    "[1,] 0.013265694 0.011054745 0.00736983 0.003684915 0.001473966\n",
    "[2,] 0.011054745 0.027636863 0.01842458 0.009212288 0.003684915\n",
    "[3,] 0.007369830 0.018424576 0.03684915 0.018424576 0.007369830\n",
    "[4,] 0.003684915 0.009212288 0.01842458 0.027636863 0.011054745\n",
    "[5,] 0.001473966 0.003684915 0.00736983 0.011054745 0.013265694\n",
    "'''\n",
    "\n",
    "z_pvalues_correct = [0.8281865]\n",
    "q_pvalues_correct = [0.16542934, 0.03718496, 0.04301983, 0.03317545, 0.18753145]\n",
    "zr_correct = [0.2937853]\n",
    "\n",
    "z_pvalues = zinq.z_pvalues\n",
    "q_pvalues = zinq.q_pvalues\n",
    "zr = zinq.zr\n",
    "\n",
    "print(\"Z p-values: \", z_pvalues, \" Correct: \", z_pvalues_correct)\n",
    "print(\"Q p-values: \", q_pvalues, \" Correct: \", q_pvalues_correct)\n",
    "print(\"Zr: \", zr, \" Correct: \", zr_correct)\n",
    "\n",
    "# test almost equal\n",
    "assert np.allclose(z_pvalues, z_pvalues_correct, atol=1e-3)"
   ]
  }
 ],
 "metadata": {
  "kernelspec": {
   "display_name": "bioinf593",
   "language": "python",
   "name": "python3"
  },
  "language_info": {
   "codemirror_mode": {
    "name": "ipython",
    "version": 3
   },
   "file_extension": ".py",
   "mimetype": "text/x-python",
   "name": "python",
   "nbconvert_exporter": "python",
   "pygments_lexer": "ipython3",
   "version": "3.11.4"
  }
 },
 "nbformat": 4,
 "nbformat_minor": 2
}
