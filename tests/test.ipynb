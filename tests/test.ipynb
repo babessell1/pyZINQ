{
 "cells": [
  {
   "cell_type": "code",
   "execution_count": 1,
   "metadata": {},
   "outputs": [
    {
     "name": "stdout",
     "output_type": "stream",
     "text": [
      "c:\\Users\\bbessell\\Projects\\GitHub\\pyZINQ\n",
      "['.git', '.gitignore', 'License.md', 'py', 'README.md', 'refs', 'tests']\n"
     ]
    }
   ],
   "source": [
    "import os\n",
    "os.chdir('..')\n",
    "from py.zinq import ZINQ\n",
    "import pandas as pd\n",
    "import numpy as np\n",
    "print(os.getcwd())\n",
    "print(os.listdir())"
   ]
  },
  {
   "cell_type": "code",
   "execution_count": 2,
   "metadata": {},
   "outputs": [
    {
     "name": "stdout",
     "output_type": "stream",
     "text": [
      "[0 1 1 1 1 1 1 1 1 1 1 1 1 1 1 1 1 1 1 1 1 1 1 1 1 1 1 1 1 1 1 1 1 1 1 1 1\n",
      " 1 1 1 1 0 0 0 0 0 0 0 0 0 0 0 0 0 0 0 0 0 0 0 0 0 0 0 0 0 0 0 0 0 0 0 0 0\n",
      " 0 0 0 0 0 0 0 0 0 0 0 0 0 0 1 1 1 1 1 1 1 1 1 1 1 1 1 1 1 1 1 1 1 1 1 1 1\n",
      " 1 1 1 1 1 1 1 1 1 1 1 0 0 0 0 0 1 1 1 0 1 1 1 1 1 1 1 1 1 1 1 1 1 1 1 1 1\n",
      " 1 1 1 1 1 1 1 1 1 1 1 1 0 0 0 0 0 0 0 0 0 0 0 0 0 0 0 0 0 0 0 0 0 0 0 0 0\n",
      " 0 0 0 0 0 0 0 0 0 0 0 0 0 0 0 0 0 0 1 1 1 1 1 1 1 1 1 1 1 1 1 1 1 1 1 1 0\n",
      " 0 0 0 0 0 0 0 0 0 0 0 0 0 0 1 1 1]\n",
      "     case  age  oc  vicl  vis  dia\n",
      "0       1    0   0     0    1    0\n",
      "1       1    0   0     0    0    0\n",
      "2       1    0   0     0    0    0\n",
      "3       1    0   0     0    0    0\n",
      "4       1    0   0     0    0    0\n",
      "..    ...  ...  ..   ...  ...  ...\n",
      "234     0    1   1     0    0    0\n",
      "235     0    1   1     0    1    0\n",
      "236     0    1   1     0    0    0\n",
      "237     0    1   1     1    1    0\n",
      "238     0    1   1     1    1    0\n",
      "\n",
      "[239 rows x 6 columns]\n",
      "{'test': array([0, 1, 1, 1, 1, 1, 1, 1, 1, 1, 1, 1, 1, 1, 1, 1, 1, 1, 1, 1, 1, 1,\n",
      "       1, 1, 1, 1, 1, 1, 1, 1, 1, 1, 1, 1, 1, 1, 1, 1, 1, 1, 1, 0, 0, 0,\n",
      "       0, 0, 0, 0, 0, 0, 0, 0, 0, 0, 0, 0, 0, 0, 0, 0, 0, 0, 0, 0, 0, 0,\n",
      "       0, 0, 0, 0, 0, 0, 0, 0, 0, 0, 0, 0, 0, 0, 0, 0, 0, 0, 0, 0, 0, 0,\n",
      "       1, 1, 1, 1, 1, 1, 1, 1, 1, 1, 1, 1, 1, 1, 1, 1, 1, 1, 1, 1, 1, 1,\n",
      "       1, 1, 1, 1, 1, 1, 1, 1, 1, 1, 1, 1, 0, 0, 0, 0, 0, 1, 1, 1, 0, 1,\n",
      "       1, 1, 1, 1, 1, 1, 1, 1, 1, 1, 1, 1, 1, 1, 1, 1, 1, 1, 1, 1, 1, 1,\n",
      "       1, 1, 1, 1, 1, 1, 0, 0, 0, 0, 0, 0, 0, 0, 0, 0, 0, 0, 0, 0, 0, 0,\n",
      "       0, 0, 0, 0, 0, 0, 0, 0, 0, 0, 0, 0, 0, 0, 0, 0, 0, 0, 0, 0, 0, 0,\n",
      "       0, 0, 0, 0, 0, 1, 1, 1, 1, 1, 1, 1, 1, 1, 1, 1, 1, 1, 1, 1, 1, 1,\n",
      "       1, 0, 0, 0, 0, 0, 0, 0, 0, 0, 0, 0, 0, 0, 0, 0, 1, 1, 1],\n",
      "      dtype=int64)}\n"
     ]
    }
   ],
   "source": [
    "data = pd.read_csv(\"refs/uti_data.csv\", delimiter=\";\").drop(columns=[\"Unnamed: 0\"])\n",
    "data.head()\n",
    "\n",
    "covariates = [\"case\", \"age\", \"oc\", \"vicl\", \"vis\", \"dia\"]\n",
    "\n",
    "data_matrix = data[\"vic\"].values.T\n",
    "print(data_matrix)\n",
    "\n",
    "metadata = pd.DataFrame(data[covariates].values, columns=covariates)\n",
    "print(metadata)\n",
    "\n",
    "zinq = ZINQ(\n",
    "    (data_matrix),\n",
    "    metadata, \n",
    "    [\"test\"], \n",
    "    \"case\",\n",
    "    [\"age\", \"oc\", \"vicl\", \"vis\", \"dia\"],\n",
    "    count_data = True\n",
    ")\n",
    "print(zinq.Y)\n",
    "\n"
   ]
  },
  {
   "cell_type": "code",
   "execution_count": 5,
   "metadata": {},
   "outputs": [
    {
     "name": "stdout",
     "output_type": "stream",
     "text": [
      "Source `test`, has the following warnings: \n",
      "\n"
     ]
    },
    {
     "ename": "IndexError",
     "evalue": "only integers, slices (`:`), ellipsis (`...`), numpy.newaxis (`None`) and integer or boolean arrays are valid indices",
     "output_type": "error",
     "traceback": [
      "\u001b[1;31m---------------------------------------------------------------------------\u001b[0m",
      "\u001b[1;31mIndexError\u001b[0m                                Traceback (most recent call last)",
      "Cell \u001b[1;32mIn[5], line 2\u001b[0m\n\u001b[0;32m      1\u001b[0m zinq\u001b[38;5;241m.\u001b[39mrun_sanity_check()\n\u001b[1;32m----> 2\u001b[0m \u001b[43mzinq\u001b[49m\u001b[38;5;241;43m.\u001b[39;49m\u001b[43mrun_marginal_tests\u001b[49m\u001b[43m(\u001b[49m\u001b[43m)\u001b[49m\n",
      "File \u001b[1;32mc:\\Users\\bbessell\\Projects\\GitHub\\pyZINQ\\py\\zinq.py:408\u001b[0m, in \u001b[0;36mZINQ.run_marginal_tests\u001b[1;34m(self)\u001b[0m\n\u001b[0;32m    403\u001b[0m \u001b[38;5;250m\u001b[39m\u001b[38;5;124;03m\"\"\"\u001b[39;00m\n\u001b[0;32m    404\u001b[0m \u001b[38;5;124;03mRun marginal tests for the Firth logistic and quantile regression\u001b[39;00m\n\u001b[0;32m    405\u001b[0m \u001b[38;5;124;03mcomponents for each data source.\u001b[39;00m\n\u001b[0;32m    406\u001b[0m \u001b[38;5;124;03m\"\"\"\u001b[39;00m\n\u001b[0;32m    407\u001b[0m \u001b[38;5;28;01mfor\u001b[39;00m dname \u001b[38;5;129;01min\u001b[39;00m \u001b[38;5;28mself\u001b[39m\u001b[38;5;241m.\u001b[39mdnames:\n\u001b[1;32m--> 408\u001b[0m     \u001b[38;5;28mself\u001b[39m\u001b[38;5;241m.\u001b[39mz_pvalues[dname], \u001b[38;5;28mself\u001b[39m\u001b[38;5;241m.\u001b[39mq_pvalues[dname] \u001b[38;5;241m=\u001b[39m \u001b[38;5;28;43mself\u001b[39;49m\u001b[38;5;241;43m.\u001b[39;49m\u001b[43m_marginal_test\u001b[49m\u001b[43m(\u001b[49m\u001b[43mdname\u001b[49m\u001b[43m)\u001b[49m\n",
      "File \u001b[1;32mc:\\Users\\bbessell\\Projects\\GitHub\\pyZINQ\\py\\zinq.py:396\u001b[0m, in \u001b[0;36mZINQ._marginal_test\u001b[1;34m(self, dname)\u001b[0m\n\u001b[0;32m    395\u001b[0m \u001b[38;5;28;01mdef\u001b[39;00m \u001b[38;5;21m_marginal_test\u001b[39m(\u001b[38;5;28mself\u001b[39m, dname): \u001b[38;5;66;03m# ?\u001b[39;00m\n\u001b[1;32m--> 396\u001b[0m     _, _, _, _, firth_pvals \u001b[38;5;241m=\u001b[39m \u001b[38;5;28;43mself\u001b[39;49m\u001b[38;5;241;43m.\u001b[39;49m\u001b[43mrun_firth_regression\u001b[49m\u001b[43m(\u001b[49m\u001b[43mdname\u001b[49m\u001b[43m)\u001b[49m\n\u001b[0;32m    397\u001b[0m     quant_pvals \u001b[38;5;241m=\u001b[39m \u001b[38;5;28mself\u001b[39m\u001b[38;5;241m.\u001b[39mrun_quantile_regression(dname)\n\u001b[0;32m    399\u001b[0m     \u001b[38;5;28;01mreturn\u001b[39;00m firth_pvals, quant_pvals\n",
      "File \u001b[1;32mc:\\Users\\bbessell\\Projects\\GitHub\\pyZINQ\\py\\zinq.py:312\u001b[0m, in \u001b[0;36mZINQ.run_firth_regression\u001b[1;34m(self, dname)\u001b[0m\n\u001b[0;32m    307\u001b[0m \u001b[38;5;250m\u001b[39m\u001b[38;5;124;03m\"\"\"\u001b[39;00m\n\u001b[0;32m    308\u001b[0m \u001b[38;5;124;03mPerform Firth logistic regression on a single data source.\u001b[39;00m\n\u001b[0;32m    309\u001b[0m \u001b[38;5;124;03mFor a single \u001b[39;00m\n\u001b[0;32m    310\u001b[0m \u001b[38;5;124;03m\"\"\"\u001b[39;00m\n\u001b[0;32m    311\u001b[0m \u001b[38;5;66;03m# betas, bse, fitll, stats, pvals \u001b[39;00m\n\u001b[1;32m--> 312\u001b[0m \u001b[38;5;28;01mreturn\u001b[39;00m \u001b[38;5;28mself\u001b[39m\u001b[38;5;241m.\u001b[39m_firth_regress(\u001b[38;5;28mself\u001b[39m\u001b[38;5;241m.\u001b[39mC, \u001b[38;5;28;43mself\u001b[39;49m\u001b[38;5;241;43m.\u001b[39;49m\u001b[43mZ\u001b[49m\u001b[43m[\u001b[49m\u001b[43mdname\u001b[49m\u001b[43m]\u001b[49m)\n",
      "\u001b[1;31mIndexError\u001b[0m: only integers, slices (`:`), ellipsis (`...`), numpy.newaxis (`None`) and integer or boolean arrays are valid indices"
     ]
    }
   ],
   "source": [
    "zinq.run_sanity_check()\n",
    "zinq.run_marginal_tests()"
   ]
  },
  {
   "cell_type": "code",
   "execution_count": 6,
   "metadata": {},
   "outputs": [
    {
     "name": "stdout",
     "output_type": "stream",
     "text": [
      "239\n"
     ]
    }
   ],
   "source": [
    "print(len(zinq.Y[dname := \"test\"]))"
   ]
  },
  {
   "cell_type": "code",
   "execution_count": 16,
   "metadata": {},
   "outputs": [
    {
     "name": "stdout",
     "output_type": "stream",
     "text": [
      "(239, 6) (239,)\n"
     ]
    }
   ],
   "source": [
    "print(X_.shape, y_.shape)\n",
    "zinq = ZINQ((X_), ()"
   ]
  },
  {
   "cell_type": "code",
   "execution_count": null,
   "metadata": {},
   "outputs": [],
   "source": []
  }
 ],
 "metadata": {
  "kernelspec": {
   "display_name": "bioinf593",
   "language": "python",
   "name": "python3"
  },
  "language_info": {
   "codemirror_mode": {
    "name": "ipython",
    "version": 3
   },
   "file_extension": ".py",
   "mimetype": "text/x-python",
   "name": "python",
   "nbconvert_exporter": "python",
   "pygments_lexer": "ipython3",
   "version": "3.11.4"
  }
 },
 "nbformat": 4,
 "nbformat_minor": 2
}
