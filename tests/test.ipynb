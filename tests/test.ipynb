{
 "cells": [
  {
   "cell_type": "code",
   "execution_count": 16,
   "metadata": {},
   "outputs": [
    {
     "name": "stdout",
     "output_type": "stream",
     "text": [
      "c:\\PIBS\\Coursework\\biostat666\\project\n",
      "['Fortunately.docx', 'pyZINQ']\n"
     ]
    }
   ],
   "source": [
    "import os\n",
    "os.chdir('..')\n",
    "from py.zinq import ZINQ\n",
    "import pandas as pd\n",
    "import numpy as np\n",
    "print(os.getcwd())\n",
    "print(os.listdir())"
   ]
  },
  {
   "cell_type": "code",
   "execution_count": 14,
   "metadata": {},
   "outputs": [
    {
     "data": {
      "text/plain": [
       "'y ~Z1+Z2+Z3'"
      ]
     },
     "execution_count": 14,
     "metadata": {},
     "output_type": "execute_result"
    }
   ],
   "source": [
    "data = pd.read_csv(\"refs/taxon_data.csv\", delimiter=\";\").drop(columns=[\"Unnamed: 0\"])\n",
    "covariates = [\"X\", \"Z1\", \"Z2\", \"Z3\"]\n",
    "data_matrix = data[\"Y\"].values.T\n",
    "metadata = pd.DataFrame(data[covariates].values, columns=covariates)\n",
    "zinq = ZINQ(\n",
    "    (data_matrix),\n",
    "    metadata, \n",
    "    [\"test\"], \n",
    "    \"X\",\n",
    "    [\"Z1\", \"Z2\", \"Z3\"],\n",
    "    count_data = True\n",
    ")\n",
    "#np.multiply(1,data_matrix[:, np.newaxis]!=0).shape\n",
    "#pd.DataFrame(zinq.Z).columns.tolist()\n",
    "\n",
    "\"y ~ \" + \"+\".join(zinq.covars)"
   ]
  },
  {
   "cell_type": "code",
   "execution_count": 6,
   "metadata": {},
   "outputs": [
    {
     "name": "stdout",
     "output_type": "stream",
     "text": [
      "Source `test`, has the following warnings: \n",
      "\n",
      "(531, 4)\n"
     ]
    }
   ],
   "source": [
    "zinq.run_sanity_check()\n",
    "zinq.run_marginal_tests()"
   ]
  },
  {
   "cell_type": "code",
   "execution_count": 17,
   "metadata": {},
   "outputs": [
    {
     "name": "stdout",
     "output_type": "stream",
     "text": [
      "{'test': -1}\n",
      "{'test': -1}\n"
     ]
    },
    {
     "data": {
      "text/plain": [
       "0.04999579029644097"
      ]
     },
     "execution_count": 17,
     "metadata": {},
     "output_type": "execute_result"
    }
   ],
   "source": [
    "print(zinq.z_pvalues)\n",
    "print(zinq.q_pvalues)"
   ]
  },
  {
   "cell_type": "code",
   "execution_count": 5,
   "metadata": {},
   "outputs": [
    {
     "name": "stdout",
     "output_type": "stream",
     "text": [
      "Z p-values:  {'test': 0.8238538416551906}  Correct:  [0.8281865]\n",
      "Q p-values:  {'test': array([1.1266455e-07, 0.0000000e+00, 0.0000000e+00, 0.0000000e+00,\n",
      "       0.0000000e+00])}  Correct:  [0.16542934, 0.03718496, 0.04301983, 0.03317545, 0.18753145]\n",
      "Zr:  0.2937853107344633  Correct:  [0.2937853]\n"
     ]
    },
    {
     "ename": "TypeError",
     "evalue": "ufunc 'isfinite' not supported for the input types, and the inputs could not be safely coerced to any supported types according to the casting rule ''safe''",
     "output_type": "error",
     "traceback": [
      "\u001b[1;31m---------------------------------------------------------------------------\u001b[0m",
      "\u001b[1;31mTypeError\u001b[0m                                 Traceback (most recent call last)",
      "Cell \u001b[1;32mIn[5], line 26\u001b[0m\n\u001b[0;32m     23\u001b[0m \u001b[39mprint\u001b[39m(\u001b[39m\"\u001b[39m\u001b[39mZr: \u001b[39m\u001b[39m\"\u001b[39m, zr, \u001b[39m\"\u001b[39m\u001b[39m Correct: \u001b[39m\u001b[39m\"\u001b[39m, zr_correct)\n\u001b[0;32m     25\u001b[0m \u001b[39m# test almost equal\u001b[39;00m\n\u001b[1;32m---> 26\u001b[0m \u001b[39massert\u001b[39;00m np\u001b[39m.\u001b[39;49mallclose(z_pvalues, z_pvalues_correct, atol\u001b[39m=\u001b[39;49m\u001b[39m1e-3\u001b[39;49m)\n",
      "File \u001b[1;32m<__array_function__ internals>:180\u001b[0m, in \u001b[0;36mallclose\u001b[1;34m(*args, **kwargs)\u001b[0m\n",
      "File \u001b[1;32mc:\\Users\\xmdu\\AppData\\Local\\anaconda3\\lib\\site-packages\\numpy\\core\\numeric.py:2265\u001b[0m, in \u001b[0;36mallclose\u001b[1;34m(a, b, rtol, atol, equal_nan)\u001b[0m\n\u001b[0;32m   2194\u001b[0m \u001b[39m@array_function_dispatch\u001b[39m(_allclose_dispatcher)\n\u001b[0;32m   2195\u001b[0m \u001b[39mdef\u001b[39;00m \u001b[39mallclose\u001b[39m(a, b, rtol\u001b[39m=\u001b[39m\u001b[39m1.e-5\u001b[39m, atol\u001b[39m=\u001b[39m\u001b[39m1.e-8\u001b[39m, equal_nan\u001b[39m=\u001b[39m\u001b[39mFalse\u001b[39;00m):\n\u001b[0;32m   2196\u001b[0m     \u001b[39m\"\"\"\u001b[39;00m\n\u001b[0;32m   2197\u001b[0m \u001b[39m    Returns True if two arrays are element-wise equal within a tolerance.\u001b[39;00m\n\u001b[0;32m   2198\u001b[0m \n\u001b[1;32m   (...)\u001b[0m\n\u001b[0;32m   2263\u001b[0m \n\u001b[0;32m   2264\u001b[0m \u001b[39m    \"\"\"\u001b[39;00m\n\u001b[1;32m-> 2265\u001b[0m     res \u001b[39m=\u001b[39m \u001b[39mall\u001b[39m(isclose(a, b, rtol\u001b[39m=\u001b[39;49mrtol, atol\u001b[39m=\u001b[39;49matol, equal_nan\u001b[39m=\u001b[39;49mequal_nan))\n\u001b[0;32m   2266\u001b[0m     \u001b[39mreturn\u001b[39;00m \u001b[39mbool\u001b[39m(res)\n",
      "File \u001b[1;32m<__array_function__ internals>:180\u001b[0m, in \u001b[0;36misclose\u001b[1;34m(*args, **kwargs)\u001b[0m\n",
      "File \u001b[1;32mc:\\Users\\xmdu\\AppData\\Local\\anaconda3\\lib\\site-packages\\numpy\\core\\numeric.py:2372\u001b[0m, in \u001b[0;36misclose\u001b[1;34m(a, b, rtol, atol, equal_nan)\u001b[0m\n\u001b[0;32m   2369\u001b[0m     dt \u001b[39m=\u001b[39m multiarray\u001b[39m.\u001b[39mresult_type(y, \u001b[39m1.\u001b[39m)\n\u001b[0;32m   2370\u001b[0m     y \u001b[39m=\u001b[39m asanyarray(y, dtype\u001b[39m=\u001b[39mdt)\n\u001b[1;32m-> 2372\u001b[0m xfin \u001b[39m=\u001b[39m isfinite(x)\n\u001b[0;32m   2373\u001b[0m yfin \u001b[39m=\u001b[39m isfinite(y)\n\u001b[0;32m   2374\u001b[0m \u001b[39mif\u001b[39;00m \u001b[39mall\u001b[39m(xfin) \u001b[39mand\u001b[39;00m \u001b[39mall\u001b[39m(yfin):\n",
      "\u001b[1;31mTypeError\u001b[0m: ufunc 'isfinite' not supported for the input types, and the inputs could not be safely coerced to any supported types according to the casting rule ''safe''"
     ]
    }
   ],
   "source": [
    "# unit test\n",
    "\n",
    "# sigma hats\n",
    "'''\n",
    "            [,1]        [,2]       [,3]        [,4]        [,5]\n",
    "[1,] 0.013265694 0.011054745 0.00736983 0.003684915 0.001473966\n",
    "[2,] 0.011054745 0.027636863 0.01842458 0.009212288 0.003684915\n",
    "[3,] 0.007369830 0.018424576 0.03684915 0.018424576 0.007369830\n",
    "[4,] 0.003684915 0.009212288 0.01842458 0.027636863 0.011054745\n",
    "[5,] 0.001473966 0.003684915 0.00736983 0.011054745 0.013265694\n",
    "'''\n",
    "\n",
    "z_pvalues_correct = [0.8281865]\n",
    "q_pvalues_correct = [0.16542934, 0.03718496, 0.04301983, 0.03317545, 0.18753145]\n",
    "zr_correct = [0.2937853]\n",
    "\n",
    "z_pvalues = zinq.z_pvalues\n",
    "q_pvalues = zinq.q_pvalues\n",
    "zr = zinq.zr\n",
    "\n",
    "print(\"Z p-values: \", z_pvalues, \" Correct: \", z_pvalues_correct)\n",
    "print(\"Q p-values: \", q_pvalues, \" Correct: \", q_pvalues_correct)\n",
    "print(\"Zr: \", zr, \" Correct: \", zr_correct)\n",
    "\n",
    "# test almost equal\n",
    "assert np.allclose(z_pvalues, z_pvalues_correct, atol=1e-3)"
   ]
  }
 ],
 "metadata": {
  "kernelspec": {
   "display_name": "base",
   "language": "python",
   "name": "python3"
  },
  "language_info": {
   "codemirror_mode": {
    "name": "ipython",
    "version": 3
   },
   "file_extension": ".py",
   "mimetype": "text/x-python",
   "name": "python",
   "nbconvert_exporter": "python",
   "pygments_lexer": "ipython3",
   "version": "3.10.9"
  },
  "vscode": {
   "interpreter": {
    "hash": "d97b56cdf3460d79340c3e24594e9fe4188cc794abf46dca397089caa2dcb209"
   }
  }
 },
 "nbformat": 4,
 "nbformat_minor": 2
}
